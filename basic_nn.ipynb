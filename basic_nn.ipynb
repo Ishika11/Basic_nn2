{
 "cells": [
  {
   "cell_type": "code",
   "execution_count": 2,
   "metadata": {},
   "outputs": [],
   "source": [
    "from numpy import exp, array, random, dot"
   ]
  },
  {
   "cell_type": "code",
   "execution_count": 3,
   "metadata": {},
   "outputs": [],
   "source": [
    "class neural_network:\n",
    "    def __init__(self):\n",
    "        random.seed(1) \n",
    "        #we are modelling a single neuron with two inputs and 1 output and assign random weight\n",
    "        self.weights= 2* random.random((2,1)) - 1\n",
    "    def train(self, inputs, outputs, num):\n",
    "        for iteration in range(num):\n",
    "            output= self.think(inputs)\n",
    "            error= outputs-output\n",
    "            adjustment= 0.01*dot(inputs.T, error)\n",
    "            self.weights = self.weights + adjustment\n",
    "    def think(self, inputs):\n",
    "        return (dot(inputs, self.weights))"
   ]
  },
  {
   "cell_type": "raw",
   "metadata": {},
   "source": [
    "we are creating a class called neural_network. A class is like a bluprint from which we can create objects having similar attributes. \n",
    "The self keyword is the instance of a class and makes its methods and functions accesible. \n",
    "the __init__ is a reserved method called when we are creating an object of the class and helps to initialize the attributes of the class"
   ]
  },
  {
   "cell_type": "raw",
   "metadata": {},
   "source": [
    "the inputs is 4X2 matrix and output.T (transpose) is 4X1. both these matrices are being sent to train method. The self.weight is 2X1 matrix. \n",
    "from the train method, the imputs are sent to the think method which calculates the dot product of inputs and weights producing a 4X1 matrix. Thi is what the machine has generated. it is then compared by the actual outputs array from the training set and the error is then calculated. \n",
    "Error is a 4X1 matrix. \n",
    "the adjustment is calculated from the dot product of transpose of inputs (2X4 matrix) and error(4X1) giving a 2X1 matrix.\n",
    "it is then used to update the value of weights and this process is carried on 1000 times. (The error gets removed)"
   ]
  },
  {
   "cell_type": "code",
   "execution_count": 4,
   "metadata": {},
   "outputs": [],
   "source": [
    "neural_network= neural_network()\n",
    "#the training set\n",
    "inputs= array([[2,3],[1,1],[3,4],[12,3]])\n",
    "outputs= array([[10,4,14,30]]).T\n",
    "\n",
    "#training the neural network using the training set\n",
    "neural_network.train(inputs, outputs, 10000)\n"
   ]
  },
  {
   "cell_type": "raw",
   "metadata": {},
   "source": [
    "once the network is trained we can ask for outputs from the numbers we provide"
   ]
  },
  {
   "cell_type": "code",
   "execution_count": 5,
   "metadata": {},
   "outputs": [
    {
     "name": "stdout",
     "output_type": "stream",
     "text": [
      "[60.]\n"
     ]
    }
   ],
   "source": [
    "print(neural_network.think(array([10,20])))"
   ]
  },
  {
   "cell_type": "raw",
   "metadata": {},
   "source": [
    "Works perfectly!"
   ]
  }
 ],
 "metadata": {
  "kernelspec": {
   "display_name": "Python 3",
   "language": "python",
   "name": "python3"
  },
  "language_info": {
   "codemirror_mode": {
    "name": "ipython",
    "version": 3
   },
   "file_extension": ".py",
   "mimetype": "text/x-python",
   "name": "python",
   "nbconvert_exporter": "python",
   "pygments_lexer": "ipython3",
   "version": "3.6.4"
  }
 },
 "nbformat": 4,
 "nbformat_minor": 2
}
